{
 "cells": [
  {
   "cell_type": "markdown",
   "id": "b70f8547-5112-4c9d-92eb-6e630d504dbc",
   "metadata": {},
   "source": [
    "Group Members: Juniper Ferlan, Thomas Curry, Andre Hu"
   ]
  },
  {
   "cell_type": "code",
   "execution_count": 1,
   "id": "fc7d49bb-2526-43ee-a13d-9159cef94f46",
   "metadata": {},
   "outputs": [
    {
     "name": "stdout",
     "output_type": "stream",
     "text": [
      "hello world\n"
     ]
    }
   ],
   "source": [
    "print(\"hello world\")"
   ]
  },
  {
   "cell_type": "code",
   "execution_count": null,
   "id": "00f6a50c-959d-46ec-a408-7ab57cd25832",
   "metadata": {},
   "outputs": [],
   "source": []
  }
 ],
 "metadata": {
  "kernelspec": {
   "display_name": "Python 3 (ipykernel)",
   "language": "python",
   "name": "python3"
  },
  "language_info": {
   "codemirror_mode": {
    "name": "ipython",
    "version": 3
   },
   "file_extension": ".py",
   "mimetype": "text/x-python",
   "name": "python",
   "nbconvert_exporter": "python",
   "pygments_lexer": "ipython3",
   "version": "3.12.4"
  }
 },
 "nbformat": 4,
 "nbformat_minor": 5
}
