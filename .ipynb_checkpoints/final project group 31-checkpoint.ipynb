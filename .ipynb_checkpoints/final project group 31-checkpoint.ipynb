{
 "cells": [
  {
   "cell_type": "code",
   "execution_count": 1,
   "id": "3e490168-46b2-4fe7-ab94-42bf12f1c18e",
   "metadata": {},
   "outputs": [
    {
     "name": "stdout",
     "output_type": "stream",
     "text": [
      "hello world\n"
     ]
    }
   ],
   "source": [
    "print(\"hello world\")"
   ]
  },
  {
   "cell_type": "markdown",
   "id": "b70f8547-5112-4c9d-92eb-6e630d504dbc",
   "metadata": {},
   "source": [
    "Group Members: Juniper Ferlan, Thomas Curry, Andre Hu"
   ]
  },
  {
   "cell_type": "code",
   "execution_count": null,
   "id": "aa132e3a-8812-4a48-8445-e7bfe5cac86c",
   "metadata": {},
   "outputs": [],
   "source": []
  }
 ],
 "metadata": {
  "kernelspec": {
   "display_name": "Python 3 (ipykernel)",
   "language": "python",
   "name": "python3"
  },
  "language_info": {
   "codemirror_mode": {
    "name": "ipython",
    "version": 3
   },
   "file_extension": ".py",
   "mimetype": "text/x-python",
   "name": "python",
   "nbconvert_exporter": "python",
   "pygments_lexer": "ipython3",
   "version": "3.12.4"
  }
 },
 "nbformat": 4,
 "nbformat_minor": 5
}
